{
 "cells": [
  {
   "cell_type": "code",
   "execution_count": 1,
   "id": "95a49dc5",
   "metadata": {},
   "outputs": [],
   "source": [
    "cast = [\"Cleese\", \"Palin\", \"Jones\", \"Idle\"]"
   ]
  },
  {
   "cell_type": "code",
   "execution_count": 2,
   "id": "f4693a5e",
   "metadata": {},
   "outputs": [
    {
     "name": "stdout",
     "output_type": "stream",
     "text": [
      "['Cleese', 'Palin', 'Jones', 'Idle']\n"
     ]
    }
   ],
   "source": [
    "print(cast)"
   ]
  },
  {
   "cell_type": "code",
   "execution_count": 3,
   "id": "8f384649",
   "metadata": {},
   "outputs": [
    {
     "name": "stdout",
     "output_type": "stream",
     "text": [
      "4\n"
     ]
    }
   ],
   "source": [
    "print(len(cast))"
   ]
  },
  {
   "cell_type": "code",
   "execution_count": 4,
   "id": "dfbf6f89",
   "metadata": {},
   "outputs": [],
   "source": [
    "cast.append(\"Gilliam\")"
   ]
  },
  {
   "cell_type": "code",
   "execution_count": 5,
   "id": "74668cb2",
   "metadata": {},
   "outputs": [
    {
     "name": "stdout",
     "output_type": "stream",
     "text": [
      "['Cleese', 'Palin', 'Jones', 'Idle', 'Gilliam']\n"
     ]
    }
   ],
   "source": [
    "print(cast)"
   ]
  },
  {
   "cell_type": "code",
   "execution_count": 6,
   "id": "033ccb7e",
   "metadata": {},
   "outputs": [
    {
     "data": {
      "text/plain": [
       "'Gilliam'"
      ]
     },
     "execution_count": 6,
     "metadata": {},
     "output_type": "execute_result"
    }
   ],
   "source": [
    "cast.pop()"
   ]
  },
  {
   "cell_type": "code",
   "execution_count": 7,
   "id": "1deb0883",
   "metadata": {},
   "outputs": [
    {
     "name": "stdout",
     "output_type": "stream",
     "text": [
      "['Cleese', 'Palin', 'Jones', 'Idle']\n"
     ]
    }
   ],
   "source": [
    "print(cast)"
   ]
  },
  {
   "cell_type": "code",
   "execution_count": 8,
   "id": "72f49aa4",
   "metadata": {},
   "outputs": [],
   "source": [
    "cast.extend([\"Gillam\", \"Chapman\"])"
   ]
  },
  {
   "cell_type": "code",
   "execution_count": 9,
   "id": "349abe9e",
   "metadata": {},
   "outputs": [
    {
     "name": "stdout",
     "output_type": "stream",
     "text": [
      "['Cleese', 'Palin', 'Jones', 'Idle', 'Gillam', 'Chapman']\n"
     ]
    }
   ],
   "source": [
    "print(cast)"
   ]
  },
  {
   "cell_type": "code",
   "execution_count": 10,
   "id": "c105c85e",
   "metadata": {},
   "outputs": [],
   "source": [
    "cast.remove(\"Chapman\")"
   ]
  },
  {
   "cell_type": "code",
   "execution_count": 11,
   "id": "29401f2b",
   "metadata": {},
   "outputs": [
    {
     "name": "stdout",
     "output_type": "stream",
     "text": [
      "['Cleese', 'Palin', 'Jones', 'Idle', 'Gillam']\n"
     ]
    }
   ],
   "source": [
    "print(cast)"
   ]
  },
  {
   "cell_type": "code",
   "execution_count": 12,
   "id": "09da497a",
   "metadata": {},
   "outputs": [],
   "source": [
    "cast.insert(0, \"Chapman\")"
   ]
  },
  {
   "cell_type": "code",
   "execution_count": 13,
   "id": "3d08f09f",
   "metadata": {},
   "outputs": [
    {
     "name": "stdout",
     "output_type": "stream",
     "text": [
      "['Chapman', 'Cleese', 'Palin', 'Jones', 'Idle', 'Gillam']\n"
     ]
    }
   ],
   "source": [
    "print(cast)"
   ]
  },
  {
   "cell_type": "markdown",
   "id": "e91277dd",
   "metadata": {},
   "source": [
    "### 연습문제."
   ]
  },
  {
   "cell_type": "code",
   "execution_count": null,
   "id": "c76cabee",
   "metadata": {},
   "outputs": [],
   "source": []
  }
 ],
 "metadata": {
  "kernelspec": {
   "display_name": "Python 3 (ipykernel)",
   "language": "python",
   "name": "python3"
  },
  "language_info": {
   "codemirror_mode": {
    "name": "ipython",
    "version": 3
   },
   "file_extension": ".py",
   "mimetype": "text/x-python",
   "name": "python",
   "nbconvert_exporter": "python",
   "pygments_lexer": "ipython3",
   "version": "3.10.9"
  }
 },
 "nbformat": 4,
 "nbformat_minor": 5
}
