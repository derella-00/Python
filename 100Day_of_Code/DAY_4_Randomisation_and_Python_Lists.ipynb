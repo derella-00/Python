{
 "cells": [
  {
   "cell_type": "code",
   "execution_count": 2,
   "id": "6563f4f9",
   "metadata": {},
   "outputs": [],
   "source": [
    "import random\n"
   ]
  },
  {
   "cell_type": "code",
   "execution_count": null,
   "id": "ec3bab17",
   "metadata": {},
   "outputs": [],
   "source": [
    "# 정수 난수 생성\n",
    "# random.randint(n, m)\n",
    "\n",
    "random_integer = random.randint(1, 10)\n",
    "print(random_integer)"
   ]
  },
  {
   "cell_type": "code",
   "execution_count": 5,
   "id": "1134d12b",
   "metadata": {},
   "outputs": [
    {
     "data": {
      "text/plain": [
       "0.06548462375372854"
      ]
     },
     "execution_count": 5,
     "metadata": {},
     "output_type": "execute_result"
    }
   ],
   "source": [
    "# 부동소수점 난수 생생성\n",
    "# random.random()\n",
    "\n",
    "random_float = random.random()\n",
    "random_float\n"
   ]
  },
  {
   "cell_type": "markdown",
   "id": "dc8192b4",
   "metadata": {},
   "source": [
    "#### How to create a random decimal number between 0 and 10?"
   ]
  },
  {
   "cell_type": "code",
   "execution_count": 7,
   "id": "6a9f5311",
   "metadata": {},
   "outputs": [
    {
     "data": {
      "text/plain": [
       "7.065484623753728"
      ]
     },
     "execution_count": 7,
     "metadata": {},
     "output_type": "execute_result"
    }
   ],
   "source": [
    "random_integer + random_float"
   ]
  },
  {
   "cell_type": "code",
   "execution_count": 9,
   "id": "acd7bbc3",
   "metadata": {},
   "outputs": [
    {
     "data": {
      "text/plain": [
       "0.3274231187686427"
      ]
     },
     "execution_count": 9,
     "metadata": {},
     "output_type": "execute_result"
    }
   ],
   "source": [
    "random_float * 5"
   ]
  },
  {
   "cell_type": "markdown",
   "id": "448328cf",
   "metadata": {},
   "source": [
    " "
   ]
  },
  {
   "cell_type": "markdown",
   "id": "32d0aca6",
   "metadata": {},
   "source": [
    " "
   ]
  },
  {
   "cell_type": "code",
   "execution_count": 10,
   "id": "f6bf99b6",
   "metadata": {},
   "outputs": [
    {
     "name": "stdout",
     "output_type": "stream",
     "text": [
      "Your love score is 36\n"
     ]
    }
   ],
   "source": [
    "love_score = random.randint(1, 100)\n",
    "print(f\"Your love score is {love_score}\")"
   ]
  },
  {
   "cell_type": "markdown",
   "id": "661a2963",
   "metadata": {},
   "source": [
    "\n",
    "<br><br>\n",
    "\n",
    "### Heads or Tails"
   ]
  },
  {
   "cell_type": "code",
   "execution_count": 12,
   "id": "c361b5cd",
   "metadata": {},
   "outputs": [],
   "source": [
    "import random"
   ]
  },
  {
   "cell_type": "code",
   "execution_count": 15,
   "id": "623c990a",
   "metadata": {},
   "outputs": [
    {
     "name": "stdout",
     "output_type": "stream",
     "text": [
      "Heads\n"
     ]
    }
   ],
   "source": [
    "random_side = random.randint(0, 1)\n",
    "if random_side == 1:\n",
    "    print(\"Heads\")\n",
    "else:\n",
    "    print(\"Tails\")\n"
   ]
  },
  {
   "cell_type": "markdown",
   "id": "1a7f5684",
   "metadata": {},
   "source": [
    "<br><br>\n",
    "\n",
    "## List"
   ]
  },
  {
   "cell_type": "code",
   "execution_count": null,
   "id": "c43c1876",
   "metadata": {},
   "outputs": [],
   "source": []
  }
 ],
 "metadata": {
  "kernelspec": {
   "display_name": "Python 3 (ipykernel)",
   "language": "python",
   "name": "python3"
  },
  "language_info": {
   "codemirror_mode": {
    "name": "ipython",
    "version": 3
   },
   "file_extension": ".py",
   "mimetype": "text/x-python",
   "name": "python",
   "nbconvert_exporter": "python",
   "pygments_lexer": "ipython3",
   "version": "3.10.9"
  }
 },
 "nbformat": 4,
 "nbformat_minor": 5
}
